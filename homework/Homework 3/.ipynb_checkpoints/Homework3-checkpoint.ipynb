{
 "cells": [
  {
   "cell_type": "markdown",
   "metadata": {},
   "source": [
    "## HOMEWORK 3 (SHASHANK KUMBHARE)  \n",
    "  "
   ]
  },
  {
   "cell_type": "markdown",
   "metadata": {},
   "source": [
    "---"
   ]
  },
  {
   "cell_type": "markdown",
   "metadata": {},
   "source": [
    "### Problem 1: Check if number is even in one line function definition  \n",
    "Write a one-line function is_even() that returns True is the input value to the function is an even number, and False otherwise.  "
   ]
  },
  {
   "cell_type": "markdown",
   "metadata": {},
   "source": [
    "##### Solution:\n",
    "```python\n",
    "is_even = lambda number: True if number % 2 == 0 else False  \n",
    "```"
   ]
  },
  {
   "cell_type": "code",
   "execution_count": 12,
   "metadata": {},
   "outputs": [
    {
     "data": {
      "text/plain": [
       "False"
      ]
     },
     "execution_count": 12,
     "metadata": {},
     "output_type": "execute_result"
    }
   ],
   "source": [
    "is_even(7)"
   ]
  },
  {
   "cell_type": "code",
   "execution_count": 13,
   "metadata": {},
   "outputs": [
    {
     "data": {
      "text/plain": [
       "True"
      ]
     },
     "execution_count": 13,
     "metadata": {},
     "output_type": "execute_result"
    }
   ],
   "source": [
    "is_even(4)"
   ]
  },
  {
   "cell_type": "markdown",
   "metadata": {},
   "source": [
    "---"
   ]
  },
  {
   "cell_type": "markdown",
   "metadata": {},
   "source": [
    "### Problem 2: Finding the maximum value of an array via recursive function calls  \n",
    "Write a recursive Python function findMaxVal() that takes an input list of numbers and returns the maximum value stored the list. Do not use any max() function from any Python package. Your code should only contain if blocks and recursive function calls. Your function should return None if the input array is an empty list. "
   ]
  },
  {
   "cell_type": "markdown",
   "metadata": {},
   "source": [
    "##### Solution:\n",
    "```python\n",
    "def findMaxVal(my_list):\n",
    "    if len(my_list) == 0:\n",
    "        return None\n",
    "    elif len(my_list) == 2:\n",
    "        return my_list[0] if my_list[0] > my_list[1] else my_list[1]\n",
    "    else:\n",
    "        if my_list[0] < my_list[1]:\n",
    "            del my_list[0]\n",
    "            return findMaxVal(my_list)\n",
    "        else:\n",
    "            del my_list [1]\n",
    "            return findMaxVal(my_list)\n",
    "```        "
   ]
  },
  {
   "cell_type": "code",
   "execution_count": 79,
   "metadata": {},
   "outputs": [
    {
     "data": {
      "text/plain": [
       "4.5"
      ]
     },
     "execution_count": 79,
     "metadata": {},
     "output_type": "execute_result"
    }
   ],
   "source": [
    "findMaxVal([1,2,-3,4.5,2,-1])"
   ]
  },
  {
   "cell_type": "code",
   "execution_count": 53,
   "metadata": {},
   "outputs": [
    {
     "data": {
      "text/plain": [
       "True"
      ]
     },
     "execution_count": 53,
     "metadata": {},
     "output_type": "execute_result"
    }
   ],
   "source": [
    "findMaxVal([]) is None"
   ]
  },
  {
   "cell_type": "markdown",
   "metadata": {},
   "source": [
    "---"
   ]
  },
  {
   "cell_type": "markdown",
   "metadata": {},
   "source": [
    "### Problem 3: Finding the position of the maximum value of an array via recursive function calls  \n",
    "Write a recursive Python function findMaxValMaxLoc() that takes an input list of numbers and returns, as a tuple, both the maximum value and the position (index) of maximum value in the input list. Your function should return None if the input array is an empty list."
   ]
  },
  {
   "cell_type": "markdown",
   "metadata": {},
   "source": [
    "##### Solution:\n",
    "```python\n",
    "def findMaxValMaxLoc(my_list):\n",
    "    tuple_my_list = tuple(my_list)\n",
    "    def findMaxVal(my_list):\n",
    "        if len(my_list) == 0:\n",
    "            return None\n",
    "        elif len(my_list) == 1:\n",
    "            return my_list[0]\n",
    "        elif len(my_list) == 2:\n",
    "            return (my_list[0]) if my_list[0] > my_list[1] else (my_list[1])\n",
    "        else:\n",
    "            if my_list[0] < my_list[1]:\n",
    "                del my_list[0]\n",
    "                return findMaxVal(my_list)\n",
    "            else:\n",
    "                del my_list [1]\n",
    "                return findMaxVal(my_list)\n",
    "    MaxLoc = tuple_my_list.index(findMaxVal(my_list)) if len(my_list) != 0 else None\n",
    "    return (findMaxVal(my_list),MaxLoc) if MaxLoc != None else findMaxVal(my_list)\n",
    "```"
   ]
  },
  {
   "cell_type": "code",
   "execution_count": 317,
   "metadata": {},
   "outputs": [
    {
     "data": {
      "text/plain": [
       "(4.5, 3)"
      ]
     },
     "execution_count": 317,
     "metadata": {},
     "output_type": "execute_result"
    }
   ],
   "source": [
    "findMaxValMaxLoc([1,2,-3,4.5,2,-1])"
   ]
  },
  {
   "cell_type": "code",
   "execution_count": 318,
   "metadata": {},
   "outputs": [
    {
     "data": {
      "text/plain": [
       "True"
      ]
     },
     "execution_count": 318,
     "metadata": {},
     "output_type": "execute_result"
    }
   ],
   "source": [
    "findMaxValMaxLoc([]) is None"
   ]
  },
  {
   "cell_type": "code",
   "execution_count": 319,
   "metadata": {},
   "outputs": [
    {
     "data": {
      "text/plain": [
       "(1, 0)"
      ]
     },
     "execution_count": 319,
     "metadata": {},
     "output_type": "execute_result"
    }
   ],
   "source": [
    "findMaxValMaxLoc([1])"
   ]
  },
  {
   "cell_type": "markdown",
   "metadata": {},
   "source": [
    "---"
   ]
  },
  {
   "cell_type": "markdown",
   "metadata": {},
   "source": [
    "\n",
    "### Problem 4: Monte Carlo approximation of the number Pi  \n",
    "Suppose we did not know the value of π and we wanted to estimate its value using Monte Carlo methods. One practical approach is to draw a square of unit side, with its diagonal opposite corners extending from the coordinates origin (0,0) to (1,1). Now we try to simulate uniform random points from inside of this square by generating uniform random points along the X and Y axes, i.e., by generating two random uniform numbers (x,y) from the range [0,1].\n",
    "\n",
    "Now the generated random point P has the coordinate (x,y), so we can calculate its distance from the coordinate origin. Now suppose we also draw a quarter-circle inside of this square whose radius is unit and is centered at the origin (0,0). The ratio of the area of this quarter-circle, Sc to the area of the square enclosing it, Ss is,  \n",
    "  \n",
    "- S<sub>c</sub>/S<sub>s</sub> = πr<sup>2</sup>/4r<sup>2</sup> = π/4  \n",
    "  \n",
    "This is because the area of the square of unit sides, is just 1. Therefore, if we can somehow measure the area of the quarter Sc, then we can use the following equation, to get an estimate of π,  \n",
    "  \n",
    "- π = 4S<sub>c</sub>  \n",
    "  \n",
    "In order to obtain, Sc, we are going to throw random points in the square, just as described above, and then find the fraction of points, f=n<sub>c</sub>/n<sub>total</sub>, that fall inside this quarter-circle. This fraction is related to the area of the circle and square by the following equation,  \n",
    "  \n",
    "- f = n<sub>c</sub>/n<sub>total</sub> = S<sub>c</sub>/S<sub>s</sub>  \n",
    "  \n",
    "Therefore, one can obtain an estimate of π using this fraction,  \n",
    "  \n",
    "- π ≈ 4n<sub>c</sub>/n<sub>total</sub>  \n",
    "  \n",
    "Now, write a MATLAB script, that takes in the number of points to be simulated, and then calculates an approximate value for π based on the Monte Carlo algorithm described above. Write a second function that plot the estimate of π versus the number of points simulated."
   ]
  },
  {
   "cell_type": "markdown",
   "metadata": {},
   "source": [
    "##### Solution(Part A):\n",
    "```python\n",
    "def find_pi(ntotal):\n",
    "    import random as rd\n",
    "    import math\n",
    "    x = []; y = []\n",
    "    [x.append(rd.random()) for i in range(ntotal)]\n",
    "    [y.append(rd.random()) for i in range(ntotal)]\n",
    "    dist = [math.sqrt((x[i])**2+(y[i])**2) for i in range(len(x))]\n",
    "    Nc = 0\n",
    "    for i in range(ntotal):\n",
    "        Nc = Nc + 1 if dist[i] <= 1 else Nc\n",
    "    pi_val = 4*Nc/ntotal\n",
    "    return pi_val\n",
    "```"
   ]
  },
  {
   "cell_type": "code",
   "execution_count": 8,
   "metadata": {},
   "outputs": [
    {
     "data": {
      "text/plain": [
       "3.1544"
      ]
     },
     "execution_count": 8,
     "metadata": {},
     "output_type": "execute_result"
    }
   ],
   "source": [
    "find_pi(10000)"
   ]
  },
  {
   "cell_type": "markdown",
   "metadata": {},
   "source": [
    "Solution(Part B):\n",
    "```python\n",
    "def pi_plot(ntotal):\n",
    "    import matplotlib.pyplot as plt\n",
    "    pi_val = [find_pi(i) for i in range(1,ntotal)]\n",
    "    plt.semilogx(range(1,ntotal), pi_val )\n",
    "    plt.show()\n",
    "```    "
   ]
  },
  {
   "cell_type": "code",
   "execution_count": 14,
   "metadata": {},
   "outputs": [
    {
     "data": {
      "image/png": "[encoded data removed]",
      "text/plain": [
       "<Figure size 432x288 with 1 Axes>"
      ]
     },
     "metadata": {
      "needs_background": "light"
     },
     "output_type": "display_data"
    }
   ],
   "source": [
    "pi_plot(2000)"
   ]
  },
  {
   "cell_type": "code",
   "execution_count": null,
   "metadata": {},
   "outputs": [],
   "source": []
  },
  {
   "cell_type": "code",
   "execution_count": null,
   "metadata": {},
   "outputs": [],
   "source": []
  }
 ],
 "metadata": {
  "kernelspec": {
   "display_name": "Python 3",
   "language": "python",
   "name": "python3"
  }
 },
 "nbformat": 4,
 "nbformat_minor": 2
}
