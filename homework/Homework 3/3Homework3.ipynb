{
 "cells": [
  {
   "cell_type": "markdown",
   "metadata": {},
   "source": [
    "## HOMEWORK 2 (SHASHANK KUMBHARE)  \n",
    "  "
   ]
  },
  {
   "cell_type": "markdown",
   "metadata": {},
   "source": [
    "### Problem 1: Check if number is even in one line function definition  \n",
    "Write a one-line function is_even() that returns True is the input value to the function is an even number, and False otherwise.  "
   ]
  },
  {
   "cell_type": "markdown",
   "metadata": {},
   "source": [
    "##### Solution:\n",
    "```python\n",
    "is_even = lambda number: True if number % 2 == 0 else False  \n",
    "```"
   ]
  },
  {
   "cell_type": "code",
   "execution_count": 12,
   "metadata": {},
   "outputs": [
    {
     "data": {
      "text/plain": [
       "False"
      ]
     },
     "execution_count": 12,
     "metadata": {},
     "output_type": "execute_result"
    }
   ],
   "source": [
    "is_even(7)"
   ]
  },
  {
   "cell_type": "code",
   "execution_count": 13,
   "metadata": {},
   "outputs": [
    {
     "data": {
      "text/plain": [
       "True"
      ]
     },
     "execution_count": 13,
     "metadata": {},
     "output_type": "execute_result"
    }
   ],
   "source": [
    "is_even(4)"
   ]
  },
  {
   "cell_type": "markdown",
   "metadata": {},
   "source": [
    "### Problem 2: Finding the maximum value of an array via recursive function calls  \n",
    "Write a recursive Python function findMaxVal() that takes an input list of numbers and returns the maximum value stored the list. Do not use any max() function from any Python package. Your code should only contain if blocks and recursive function calls. Your function should return None if the input array is an empty list. "
   ]
  },
  {
   "cell_type": "markdown",
   "metadata": {},
   "source": [
    "##### Solution:\n",
    "```python\n",
    "def findMaxVal(my_list):\n",
    "    if len(my_list) == 0:\n",
    "        return None\n",
    "    elif len(my_list) == 2:\n",
    "        return my_list[0] if my_list[0] > my_list[1] else my_list[1]\n",
    "    else:\n",
    "        if my_list[0] < my_list[1]:\n",
    "            del my_list[0]\n",
    "            return findMaxVal(my_list)\n",
    "        else:\n",
    "            del my_list [1]\n",
    "            return findMaxVal(my_list)\n",
    "```        "
   ]
  },
  {
   "cell_type": "code",
   "execution_count": 79,
   "metadata": {},
   "outputs": [
    {
     "data": {
      "text/plain": [
       "4.5"
      ]
     },
     "execution_count": 79,
     "metadata": {},
     "output_type": "execute_result"
    }
   ],
   "source": [
    "findMaxVal([1,2,-3,4.5,2,-1])"
   ]
  },
  {
   "cell_type": "code",
   "execution_count": 53,
   "metadata": {},
   "outputs": [
    {
     "data": {
      "text/plain": [
       "True"
      ]
     },
     "execution_count": 53,
     "metadata": {},
     "output_type": "execute_result"
    }
   ],
   "source": [
    "findMaxVal([]) is None"
   ]
  },
  {
   "cell_type": "markdown",
   "metadata": {},
   "source": [
    "### Problem 3: Finding the position of the maximum value of an array via recursive function calls  \n",
    "Write a recursive Python function findMaxValMaxLoc() that takes an input list of numbers and returns, as a tuple, both the maximum value and the position (index) of maximum value in the input list. Your function should return None if the input array is an empty list."
   ]
  },
  {
   "cell_type": "markdown",
   "metadata": {},
   "source": [
    "```python\n",
    "def findMaxValMaxLoc(my_list):\n",
    "    tuple_my_list = tuple(my_list)\n",
    "    def findMaxVal(my_list):\n",
    "        if len(my_list) == 0:\n",
    "            return None\n",
    "        elif len(my_list) == 1:\n",
    "            return my_list[0]\n",
    "        elif len(my_list) == 2:\n",
    "            return (my_list[0]) if my_list[0] > my_list[1] else (my_list[1])\n",
    "        else:\n",
    "            if my_list[0] < my_list[1]:\n",
    "                del my_list[0]\n",
    "                return findMaxVal(my_list)\n",
    "            else:\n",
    "                del my_list [1]\n",
    "                return findMaxVal(my_list)\n",
    "    MaxLoc = tuple_my_list.index(findMaxVal(my_list)) if len(my_list) != 0 else None\n",
    "    return (findMaxVal(my_list),MaxLoc) if MaxLoc != None else findMaxVal(my_list)\n",
    "```"
   ]
  },
  {
   "cell_type": "code",
   "execution_count": 317,
   "metadata": {},
   "outputs": [
    {
     "data": {
      "text/plain": [
       "(4.5, 3)"
      ]
     },
     "execution_count": 317,
     "metadata": {},
     "output_type": "execute_result"
    }
   ],
   "source": [
    "findMaxValMaxLoc([1,2,-3,4.5,2,-1])"
   ]
  },
  {
   "cell_type": "code",
   "execution_count": 318,
   "metadata": {},
   "outputs": [
    {
     "data": {
      "text/plain": [
       "True"
      ]
     },
     "execution_count": 318,
     "metadata": {},
     "output_type": "execute_result"
    }
   ],
   "source": [
    "findMaxValMaxLoc([]) is None"
   ]
  },
  {
   "cell_type": "code",
   "execution_count": 319,
   "metadata": {},
   "outputs": [
    {
     "data": {
      "text/plain": [
       "(1, 0)"
      ]
     },
     "execution_count": 319,
     "metadata": {},
     "output_type": "execute_result"
    }
   ],
   "source": [
    "findMaxValMaxLoc([1])"
   ]
  },
  {
   "cell_type": "markdown",
   "metadata": {},
   "source": [
    "### Problem 4: Monte Carlo approximation of the number Pi  \n",
    "Write a recursive Python function findMaxValMaxLoc() that takes an input list of numbers and returns, as a tuple, both the maximum value and the position (index) of maximum value in the input list. Your function should return None if the input array is an empty list."
   ]
  },
  {
   "cell_type": "code",
   "execution_count": null,
   "metadata": {},
   "outputs": [],
   "source": []
  }
 ],
 "metadata": {
  "kernelspec": {
   "display_name": "Python 3",
   "language": "python",
   "name": "python3"
  },
  "language_info": {
   "codemirror_mode": {
    "name": "ipython",
    "version": 3
   },
   "file_extension": ".py",
   "mimetype": "text/x-python",
   "name": "python",
   "nbconvert_exporter": "python",
   "pygments_lexer": "ipython3",
   "version": "3.7.3"
  }
 },
 "nbformat": 4,
 "nbformat_minor": 2
}
