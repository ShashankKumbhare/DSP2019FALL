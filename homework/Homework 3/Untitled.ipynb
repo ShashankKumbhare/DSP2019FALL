{
 "cells": [
  {
   "cell_type": "code",
   "execution_count": 39,
   "metadata": {},
   "outputs": [],
   "source": [
    "import matplotlib.pyplot as plt\n",
    "import math\n",
    "mu1 = -2\n",
    "mu2 = -2\n",
    "sigma1 = 1\n",
    "sigma2 = 2\n",
    "end = int(20/0.05)\n",
    "x_values = [x*0.05 for x in range(1,end)]\n",
    "def function(x):\n",
    "    ans = 1 / ( sigma1*math.sqrt(2*math.pi) ) * ( math.exp ( - ( x-mu1 )**2 / ( 2*sigma1**2 ) )) \\\n",
    "        + 1 / ( sigma2*math.sqrt(2*math.pi) ) * ( math.exp ( - ( x-mu2 )**2 / ( 2*sigma2**2 ) ) )                        \n",
    "    return ans\n",
    "function_values = [function(x) for x in x_values]"
   ]
  },
  {
   "cell_type": "code",
   "execution_count": 53,
   "metadata": {},
   "outputs": [
    {
     "data": {
      "text/plain": [
       "1.9028"
      ]
     },
     "execution_count": 53,
     "metadata": {},
     "output_type": "execute_result"
    }
   ],
   "source": [
    "import random\n",
    "import matplotlib.pyplot as plt\n",
    "import math\n",
    "rand_x_values = []\n",
    "rand_function_values = []\n",
    "end = int(15/0.05)\n",
    "number_of_points = 100000\n",
    "[rand_x_values.append(random.uniform(-10,10)) for i in range(number_of_points)]\n",
    "[rand_function_values.append(random.uniform(0,0.5)) for i in range(number_of_points)]\n",
    "x_under_curve_points = []\n",
    "y_under_curve_points = []\n",
    "x_above_curve_points = []\n",
    "y_above_curve_points = []\n",
    "count = 0\n",
    "for i in range(number_of_points):\n",
    "    if (rand_function_values[i] <= function(rand_x_values[i])):\n",
    "        x_under_curve_points.append(rand_x_values[i])        \n",
    "        y_under_curve_points.append(rand_function_values[i])\n",
    "    else:\n",
    "        x_above_curve_points.append(rand_x_values[i])        \n",
    "        y_above_curve_points.append(rand_function_values[i])\n",
    "        count=count+1\n",
    "area = 20*0.5*(len(x_under_curve_points)/number_of_points)\n",
    "area"
   ]
  },
  {
   "cell_type": "code",
   "execution_count": null,
   "metadata": {},
   "outputs": [],
   "source": []
  }
 ],
 "metadata": {
  "kernelspec": {
   "display_name": "Python 3",
   "language": "python",
   "name": "python3"
  },
  "language_info": {
   "codemirror_mode": {
    "name": "ipython",
    "version": 3
   },
   "file_extension": ".py",
   "mimetype": "text/x-python",
   "name": "python",
   "nbconvert_exporter": "python",
   "pygments_lexer": "ipython3",
   "version": "3.7.3"
  }
 },
 "nbformat": 4,
 "nbformat_minor": 2
}
